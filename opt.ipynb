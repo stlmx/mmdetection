{
 "cells": [
  {
   "cell_type": "code",
   "execution_count": 112,
   "metadata": {},
   "outputs": [],
   "source": [
    "import onnx\n",
    "from onnx import numpy_helper\n",
    "from onnx import helper\n",
    "import numpy as np\n",
    "from onnx import AttributeProto, TensorProto, GraphProto\n",
    "onnx_model = onnx.load(\"out_out.onnx\")"
   ]
  },
  {
   "cell_type": "code",
   "execution_count": 113,
   "metadata": {},
   "outputs": [],
   "source": [
    "graph = onnx_model.graph\n",
    "node  = graph.node\n",
    "init = graph.initializer"
   ]
  },
  {
   "cell_type": "code",
   "execution_count": null,
   "metadata": {},
   "outputs": [],
   "source": [
    "for idx, v in enumerate(init):   \n",
    "    if v.name == '929_1':\n",
    "        a = v\n",
    "a"
   ]
  },
  {
   "cell_type": "code",
   "execution_count": null,
   "metadata": {},
   "outputs": [],
   "source": [
    "new_array = numpy_helper.to_array(a)\n",
    "print('After round trip, Numpy array:\\n{}\\n'.format(new_array))"
   ]
  },
  {
   "cell_type": "code",
   "execution_count": null,
   "metadata": {},
   "outputs": [],
   "source": [
    "new_array = np.expand_dims(new_array,axis=0)\n",
    "# tensor = numpy_helper.from_array(new_array)\n",
    "tensor = onnx.helper.make_tensor('929_1', data_type=onnx.TensorProto.FLOAT , dims=[1, 1,1050,256], vals=new_array)\n",
    "print('TensorProto:\\n{}'.format(tensor))"
   ]
  },
  {
   "cell_type": "code",
   "execution_count": 107,
   "metadata": {},
   "outputs": [],
   "source": [
    "for idx, v in enumerate(init):   \n",
    "    if v.name == '929_1':\n",
    "        init.remove(init[idx])\n",
    "        init.insert(idx, tensor)"
   ]
  },
  {
   "cell_type": "code",
   "execution_count": 108,
   "metadata": {},
   "outputs": [],
   "source": [
    "tensor = onnx.helper.make_tensor('920', data_type=onnx.TensorProto.INT64 , dims=[4], vals=(1,1,256,-1))\n",
    "for idx, v in enumerate(init):   \n",
    "    if v.name == '920':\n",
    "        init.remove(init[idx])\n",
    "        init.insert(idx, tensor)"
   ]
  },
  {
   "cell_type": "code",
   "execution_count": 109,
   "metadata": {},
   "outputs": [
    {
     "name": "stdout",
     "output_type": "stream",
     "text": [
      "dims: 4\n",
      "data_type: 7\n",
      "int64_data: 1\n",
      "int64_data: 1\n",
      "int64_data: 256\n",
      "int64_data: -1\n",
      "name: \"920\"\n",
      "\n"
     ]
    }
   ],
   "source": [
    "for idx, v in enumerate(init):   \n",
    "    if v.name == '920':\n",
    "        print(v)"
   ]
  },
  {
   "cell_type": "code",
   "execution_count": 110,
   "metadata": {},
   "outputs": [],
   "source": [
    "for idx, v in enumerate(node):\n",
    "    if v.name == 'Transpose_334':\n",
    "        node[idx].attribute.pop()\n",
    "        attr = onnx.helper.make_attribute(\"perm\",[0,1,3,2])\n",
    "        node[idx].attribute.insert(0,attr)"
   ]
  },
  {
   "cell_type": "code",
   "execution_count": null,
   "metadata": {},
   "outputs": [],
   "source": [
    "\n"
   ]
  },
  {
   "cell_type": "code",
   "execution_count": 111,
   "metadata": {},
   "outputs": [],
   "source": [
    "onnx.checker.check_model(onnx_model)\n",
    "onnx.save(onnx_model, \"out_out.onnx\")"
   ]
  },
  {
   "cell_type": "code",
   "execution_count": null,
   "metadata": {},
   "outputs": [],
   "source": []
  }
 ],
 "metadata": {
  "interpreter": {
   "hash": "9eb82d1a29affd3f3fbcd753ea9ad05c78e2429219bfb49bc316d8946b29a5bc"
  },
  "kernelspec": {
   "display_name": "Python 3.7.12 ('mmdet2')",
   "language": "python",
   "name": "python3"
  },
  "language_info": {
   "codemirror_mode": {
    "name": "ipython",
    "version": 3
   },
   "file_extension": ".py",
   "mimetype": "text/x-python",
   "name": "python",
   "nbconvert_exporter": "python",
   "pygments_lexer": "ipython3",
   "version": "3.7.12"
  },
  "orig_nbformat": 4
 },
 "nbformat": 4,
 "nbformat_minor": 2
}
